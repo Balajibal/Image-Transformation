{
 "cells": [
  {
   "cell_type": "code",
   "execution_count": 1,
   "id": "4ded5f1c",
   "metadata": {},
   "outputs": [],
   "source": [
    "import numpy as np"
   ]
  },
  {
   "cell_type": "code",
   "execution_count": 2,
   "id": "27d33c60",
   "metadata": {},
   "outputs": [],
   "source": [
    "x=np.array(([2,9],[1,5],[3,6]),dtype=float)\n",
    "y=np.array(([92],[86],[89]),dtype=float)\n",
    "x=x/np.amax(x,axis=0)\n",
    "y=y/100"
   ]
  },
  {
   "cell_type": "code",
   "execution_count": 3,
   "id": "52ee35a0",
   "metadata": {},
   "outputs": [],
   "source": [
    "def sigmoid(x):\n",
    "    return 1/(1+np.exp(-x))\n",
    "def derivatives_sigmoid(x):\n",
    "    return x*(1-x)\n",
    "epoch=7000\n",
    "lr=0.1\n",
    "inputlayer_neurons=2\n",
    "hiddenlayer_neurons=3\n",
    "output_neurons=1\n",
    "wh=np.random.uniform(size=(inputlayer_neurons,hiddenlayer_neurons))\n",
    "bh=np.random.uniform(size=(1,hiddenlayer_neurons))"
   ]
  },
  {
   "cell_type": "code",
   "execution_count": 4,
   "id": "5a099f32",
   "metadata": {},
   "outputs": [],
   "source": [
    "wout=np.random.uniform(size=(hiddenlayer_neurons,output_neurons))\n",
    "bout=np.random.uniform(size=(1,output_neurons))"
   ]
  },
  {
   "cell_type": "code",
   "execution_count": 5,
   "id": "c0e6adb4",
   "metadata": {},
   "outputs": [],
   "source": [
    "for i in range(epoch):\n",
    "    hinp1=np.dot(x,wh)\n",
    "hinp=hinp1+bh\n",
    "hlayer_act=sigmoid(hinp)\n",
    "outinp1=np.dot(hlayer_act,wout)\n",
    "outinp=outinp1+bout"
   ]
  },
  {
   "cell_type": "code",
   "execution_count": 6,
   "id": "6f34cb82",
   "metadata": {},
   "outputs": [],
   "source": [
    "output=sigmoid(outinp)"
   ]
  },
  {
   "cell_type": "code",
   "execution_count": 7,
   "id": "455bcc43",
   "metadata": {},
   "outputs": [],
   "source": [
    "Eo=y-output\n",
    "outgrad=derivatives_sigmoid(output)\n",
    "d_output=Eo*outgrad\n",
    "EH=d_output.dot(wout.T)\n",
    "hiddengrad=derivatives_sigmoid(hlayer_act)\n",
    "d_hiddenlayer=EH*hiddengrad\n",
    "wout+=hlayer_act.T.dot(d_output)*lr"
   ]
  },
  {
   "cell_type": "code",
   "execution_count": 8,
   "id": "e424691f",
   "metadata": {},
   "outputs": [
    {
     "name": "stdout",
     "output_type": "stream",
     "text": [
      "Input:\n",
      "[[0.66666667 1.        ]\n",
      " [0.33333333 0.55555556]\n",
      " [1.         0.66666667]]\n",
      "Actual output=\n",
      "[[0.92]\n",
      " [0.86]\n",
      " [0.89]]\n",
      "predicted output:\n",
      " [[0.84629498]\n",
      " [0.83765269]\n",
      " [0.84486148]]\n"
     ]
    }
   ],
   "source": [
    "wh+=x.T.dot(d_hiddenlayer)*lr\n",
    "print(\"Input:\\n\"+str(x))\n",
    "print(\"Actual output=\\n\"+str(y))\n",
    "print(\"predicted output:\\n\",output)"
   ]
  },
  {
   "cell_type": "code",
   "execution_count": null,
   "id": "b2c31875",
   "metadata": {},
   "outputs": [],
   "source": []
  }
 ],
 "metadata": {
  "kernelspec": {
   "display_name": "Python 3",
   "language": "python",
   "name": "python3"
  },
  "language_info": {
   "codemirror_mode": {
    "name": "ipython",
    "version": 3
   },
   "file_extension": ".py",
   "mimetype": "text/x-python",
   "name": "python",
   "nbconvert_exporter": "python",
   "pygments_lexer": "ipython3",
   "version": "3.8.8"
  }
 },
 "nbformat": 4,
 "nbformat_minor": 5
}
